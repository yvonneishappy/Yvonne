{
  "nbformat": 4,
  "nbformat_minor": 0,
  "metadata": {
    "colab": {
      "provenance": []
    },
    "kernelspec": {
      "name": "python3",
      "display_name": "Python 3"
    },
    "language_info": {
      "name": "python"
    }
  },
  "cells": [
    {
      "cell_type": "code",
      "source": [
        "number = int(input(\"請輸入範圍\"))\n",
        "for i in range(1, number+1):\n",
        "  for j in range(1, number+1):\n",
        "    product=i*j\n",
        "    print(f'{i}*{j}={product}')"
      ],
      "metadata": {
        "colab": {
          "base_uri": "https://localhost:8080/"
        },
        "id": "eHi6AdWr989t",
        "outputId": "cb38e72e-e8fc-4d11-ec8f-6976df3f0782"
      },
      "execution_count": 22,
      "outputs": [
        {
          "output_type": "stream",
          "name": "stdout",
          "text": [
            "請輸入範圍5\n",
            "1*1=1\n",
            "1*2=2\n",
            "1*3=3\n",
            "1*4=4\n",
            "1*5=5\n",
            "2*1=2\n",
            "2*2=4\n",
            "2*3=6\n",
            "2*4=8\n",
            "2*5=10\n",
            "3*1=3\n",
            "3*2=6\n",
            "3*3=9\n",
            "3*4=12\n",
            "3*5=15\n",
            "4*1=4\n",
            "4*2=8\n",
            "4*3=12\n",
            "4*4=16\n",
            "4*5=20\n",
            "5*1=5\n",
            "5*2=10\n",
            "5*3=15\n",
            "5*4=20\n",
            "5*5=25\n"
          ]
        }
      ]
    },
    {
      "cell_type": "code",
      "source": [
        "import random\n",
        "target_number = random.randint(1, 100)\n",
        "\n",
        "print(\"歡迎參加猜數字遊戲！\")\n",
        "num = 0\n",
        "while num == 0:\n",
        "  guess = int(input(\"你的猜測的答案是\"))\n",
        "  if guess>target_number:\n",
        "    print(\"太高，請再猜一次\")\n",
        "\n",
        "\n",
        "  elif guess<target_number:\n",
        "    print(\"太低，請再猜一次\")\n",
        "\n",
        "  else:\n",
        "    print(f\"正確!\")\n",
        "    num=1\n",
        "print(\"遊戲結束。\")\n",
        "\n",
        "\n"
      ],
      "metadata": {
        "colab": {
          "base_uri": "https://localhost:8080/"
        },
        "id": "gxtinXkYAvTN",
        "outputId": "f4bb93f0-fe62-45c4-ff8b-cb52dc8c9f2b"
      },
      "execution_count": 24,
      "outputs": [
        {
          "output_type": "stream",
          "name": "stdout",
          "text": [
            "歡迎參加猜數字遊戲！\n",
            "你的猜測的答案是50\n",
            "太高，請再猜一次\n",
            "你的猜測的答案是40\n",
            "太低，請再猜一次\n",
            "你的猜測的答案是45\n",
            "正確!\n",
            "遊戲結束。\n"
          ]
        }
      ]
    }
  ]
}