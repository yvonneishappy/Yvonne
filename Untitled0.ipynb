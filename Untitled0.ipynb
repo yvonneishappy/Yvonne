{
  "nbformat": 4,
  "nbformat_minor": 0,
  "metadata": {
    "colab": {
      "provenance": []
    },
    "kernelspec": {
      "name": "python3",
      "display_name": "Python 3"
    },
    "language_info": {
      "name": "python"
    }
  },
  "cells": [
    {
      "cell_type": "code",
      "execution_count": 4,
      "metadata": {
        "colab": {
          "base_uri": "https://localhost:8080/"
        },
        "id": "nZ7mwYwW-qR3",
        "outputId": "6115e704-6fd5-454a-9741-0074ce8e790f"
      },
      "outputs": [
        {
          "output_type": "stream",
          "name": "stdout",
          "text": [
            "高偲芳\n",
            "['高偲芳', 'B1205032']\n"
          ]
        }
      ],
      "source": [
        "things = ['高偲芳', 'B1205032']\n",
        "print(things[0])\n",
        "print(things)"
      ]
    }
  ]
}