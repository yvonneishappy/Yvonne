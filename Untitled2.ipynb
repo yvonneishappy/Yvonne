{
  "nbformat": 4,
  "nbformat_minor": 0,
  "metadata": {
    "colab": {
      "provenance": []
    },
    "kernelspec": {
      "name": "python3",
      "display_name": "Python 3"
    },
    "language_info": {
      "name": "python"
    }
  },
  "cells": [
    {
      "cell_type": "code",
      "execution_count": 3,
      "metadata": {
        "colab": {
          "base_uri": "https://localhost:8080/"
        },
        "id": "SUxrQvv33gl-",
        "outputId": "db7c2c5c-79e1-4c7f-9a50-20e2e1650765"
      },
      "outputs": [
        {
          "output_type": "stream",
          "name": "stdout",
          "text": [
            "輸入範圍4\n",
            "1*1=1\n",
            "1*2=2\n",
            "1*3=3\n",
            "1*4=4\n",
            "2*1=2\n",
            "2*2=4\n",
            "2*3=6\n",
            "2*4=8\n",
            "3*1=3\n",
            "3*2=6\n",
            "3*3=9\n",
            "3*4=12\n",
            "4*1=4\n",
            "4*2=8\n",
            "4*3=12\n",
            "4*4=16\n"
          ]
        }
      ],
      "source": [
        "number=int(input('輸入範圍'))\n",
        "for i in range(1, number+1):\n",
        "  for j in range(1, number+1):\n",
        "    print(f'{i}*{j}={i*j}')"
      ]
    },
    {
      "cell_type": "code",
      "source": [
        "import random\n",
        "target_number=random.randint(1,100)\n",
        "print(\"歡迎參加猜數字遊戲\")\n",
        "ans=0\n",
        "while ans ==0:\n",
        "  guess=int(input(\"你猜測的答案是?\"))\n",
        "  if guess>target_number:\n",
        "    print(\"太高啦\")\n",
        "  elif guess<target_number:\n",
        "    print(\"太低啦\")\n",
        "  else:\n",
        "    print(f\"答對啦，答案是{target_number}\")\n",
        "    ans=1\n",
        "print(\"遊戲結束\")\n"
      ],
      "metadata": {
        "colab": {
          "base_uri": "https://localhost:8080/"
        },
        "id": "0efTI0p04gwt",
        "outputId": "3d4b3059-44a1-46fa-854b-ce92a56afea6"
      },
      "execution_count": 6,
      "outputs": [
        {
          "output_type": "stream",
          "name": "stdout",
          "text": [
            "歡迎參加猜數字遊戲\n",
            "你猜測的答案是?50\n",
            "太高啦\n",
            "你猜測的答案是?30\n",
            "太高啦\n",
            "你猜測的答案是?25\n",
            "太高啦\n",
            "你猜測的答案是?20\n",
            "太高啦\n",
            "你猜測的答案是?15\n",
            "太高啦\n",
            "你猜測的答案是?13\n",
            "太高啦\n",
            "你猜測的答案是?10\n",
            "太低啦\n",
            "你猜測的答案是?12\n",
            "答對啦，答案是12\n",
            "遊戲結束\n"
          ]
        }
      ]
    }
  ]
}