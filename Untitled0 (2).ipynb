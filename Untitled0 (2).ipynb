{
  "nbformat": 4,
  "nbformat_minor": 0,
  "metadata": {
    "colab": {
      "provenance": []
    },
    "kernelspec": {
      "name": "python3",
      "display_name": "Python 3"
    },
    "language_info": {
      "name": "python"
    }
  },
  "cells": [
    {
      "cell_type": "code",
      "execution_count": 3,
      "metadata": {
        "colab": {
          "base_uri": "https://localhost:8080/"
        },
        "id": "nZ7mwYwW-qR3",
        "outputId": "272842b1-a34f-465e-c8cc-e85a8202b758"
      },
      "outputs": [
        {
          "output_type": "stream",
          "name": "stdout",
          "text": [
            "高偲芳\n",
            "<class 'str'>\n",
            "B1205032\n",
            "<class 'str'>\n"
          ]
        }
      ],
      "source": [
        "x='高偲芳'\n",
        "print(x)\n",
        "print(type(x))\n",
        "y='B1205032'\n",
        "print(y)\n",
        "print(type(y))\n"
      ]
    }
  ]
}